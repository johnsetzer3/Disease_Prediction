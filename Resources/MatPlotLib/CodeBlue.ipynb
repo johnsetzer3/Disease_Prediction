{
 "cells": [
  {
   "cell_type": "code",
   "execution_count": 1,
   "id": "6108ee62",
   "metadata": {},
   "outputs": [],
   "source": [
    "import numpy as np\n",
    "import pandas as pd\n",
    "pd.set_option('max_columns', None)\n",
    "\n",
    "import matplotlib.pyplot as plt\n",
    "import seaborn as sns\n",
    "import plotly.express as px\n",
    "\n",
    "from sklearn.model_selection import train_test_split\n",
    "\n",
    "from sklearn.linear_model import LogisticRegression\n",
    "\n",
    "from sklearn.metrics import confusion_matrix"
   ]
  },
  {
   "cell_type": "code",
   "execution_count": null,
   "id": "38be5e66",
   "metadata": {},
   "outputs": [],
   "source": [
    "#Seaborn is a library for making statistical graphics in Python. Google Search https://seaborn.pydata.org/introduction.html\n",
    "#Line by Line: Seaborn is the only library we need to import for this simple example. By convention, it is imported with the shorthand sns\n",
    "#Behind the scenes, seaborn uses matplotlib to draw its plots. \n",
    "#For interactive work, it’s recommended to use a Jupyter/IPython interface in matplotlib mode, or else you’ll have to call matplotlib.pyplot.show() when you want to see the plot."
   ]
  },
  {
   "cell_type": "code",
   "execution_count": null,
   "id": "aa767c7f",
   "metadata": {},
   "outputs": [],
   "source": [
    "# Apply the default theme. Code Google Search https://seaborn.pydata.org/introduction.html Code\n",
    "sns.set_theme()"
   ]
  },
  {
   "cell_type": "code",
   "execution_count": null,
   "id": "be5506d1",
   "metadata": {},
   "outputs": [],
   "source": [
    "# Load an example datasetMost code in the docs will use the load_dataset() function to get quick access to an example dataset. \n",
    "#There’s nothing special about these datasets: they are just pandas dataframes\n",
    "tips = sns.load_dataset(\"tips\")\n",
    "\n",
    "# Create an example of visualizationThis plot shows the relationship between five variables \n",
    "#in the tips dataset using a single call to the seaborn function relplot(). \n",
    "#sns.relplot(\n",
    "    #data=tips,\n",
    "    #x=\"total_bill\", y=\"tip\", col=\"time\",\n",
    "    #hue=\"smoker\", style=\"smoker\", size=\"size\",\n",
    "#)"
   ]
  },
  {
   "cell_type": "code",
   "execution_count": null,
   "id": "82b24832",
   "metadata": {},
   "outputs": [],
   "source": [
    "#data = pd.read_csv('../input/disease-prediction-using-machine-learning/Training.csv')"
   ]
  },
  {
   "cell_type": "code",
   "execution_count": null,
   "id": "aa4d72dd",
   "metadata": {},
   "outputs": [],
   "source": [
    "data"
   ]
  },
  {
   "cell_type": "code",
   "execution_count": null,
   "id": "000248d5",
   "metadata": {},
   "outputs": [],
   "source": [
    "#API abstraction across visualizations"
   ]
  },
  {
   "cell_type": "code",
   "execution_count": null,
   "id": "86eaf286",
   "metadata": {},
   "outputs": [],
   "source": [
    "dots = sns.load_dataset(\"dots\")\n",
    "sns.relplot(\n",
    "    data=dots, kind=\"line\",\n",
    "    x=\"time\", y=\"firing_rate\", col=\"align\",\n",
    "    hue=\"choice\", size=\"coherence\", style=\"choice\",\n",
    "    facet_kws=dict(sharex=False),\n",
    ")"
   ]
  },
  {
   "cell_type": "code",
   "execution_count": null,
   "id": "b0cfe0e1",
   "metadata": {},
   "outputs": [],
   "source": [
    "#Statistical estimation and error bars\n",
    "#Often, we are interested in the average value of one variable as a function of other variables. \n",
    "#Many seaborn functions will automatically perform the statistical estimation that is necessary to answer these questions:"
   ]
  },
  {
   "cell_type": "code",
   "execution_count": null,
   "id": "3cf273eb",
   "metadata": {},
   "outputs": [],
   "source": [
    "fmri = sns.load_dataset(\"fmri\")\n",
    "sns.relplot(\n",
    "    data=fmri, kind=\"line\",\n",
    "    x=\"timepoint\", y=\"signal\", col=\"region\",\n",
    "    hue=\"event\", style=\"event\",\n",
    ")"
   ]
  }
 ],
 "metadata": {
  "kernelspec": {
   "display_name": "mlenv",
   "language": "python",
   "name": "mlenv"
  },
  "language_info": {
   "codemirror_mode": {
    "name": "ipython",
    "version": 3
   },
   "file_extension": ".py",
   "mimetype": "text/x-python",
   "name": "python",
   "nbconvert_exporter": "python",
   "pygments_lexer": "ipython3",
   "version": "3.7.10"
  }
 },
 "nbformat": 4,
 "nbformat_minor": 5
}
