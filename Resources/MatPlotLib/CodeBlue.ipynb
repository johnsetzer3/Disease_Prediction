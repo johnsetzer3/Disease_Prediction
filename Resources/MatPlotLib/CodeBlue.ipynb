{
 "cells": [
  {
   "cell_type": "code",
   "execution_count": 1,
   "id": "6108ee62",
   "metadata": {},
   "outputs": [],
   "source": [
    "# Kaggle Given Dependencies for MatPlotLib Disease Prediction\n",
    "import numpy as np\n",
    "import pandas as pd\n",
    "pd.set_option('max_columns', None)\n",
    "\n",
    "import matplotlib.pyplot as plt\n",
    "import seaborn as sns\n",
    "#Seaborn is new..\n",
    "#5.1.3 Import Pyplot\n",
    "import plotly.express as px\n",
    "\n",
    "from sklearn.model_selection import train_test_split\n",
    "\n",
    "from sklearn.linear_model import LogisticRegression\n",
    "\n",
    "from sklearn.metrics import confusion_matrix"
   ]
  },
  {
   "cell_type": "code",
   "execution_count": null,
   "id": "fb510346",
   "metadata": {},
   "outputs": [],
   "source": [
    "#Seaborn is a library for making statistical graphics in Python. Google Search https://seaborn.pydata.org/introduction.html\n",
    "#Line by Line: Seaborn is the only library we need to import for this simple example. By convention, it is imported with the shorthand sns\n",
    "#Behind the scenes, seaborn uses matplotlib to draw its plots. \n",
    "#For interactive work, it’s recommended to use a Jupyter/IPython interface in matplotlib mode, or else you’ll have to call matplotlib.pyplot.show() when you want to see the plot."
   ]
  },
  {
   "cell_type": "code",
   "execution_count": null,
   "id": "c9d71272",
   "metadata": {},
   "outputs": [],
   "source": [
    "# Apply the default theme. Code Google Search https://seaborn.pydata.org/introduction.html Code\n",
    "sns.set_theme()"
   ]
  },
  {
   "cell_type": "code",
   "execution_count": null,
   "id": "a062b7c6",
   "metadata": {},
   "outputs": [],
   "source": [
    "# Load an example datasetMost code in the docs will use the load_dataset() function to get quick access to an example dataset. \n",
    "#There’s nothing special about these datasets: they are just pandas dataframes\n",
    "tips = sns.load_dataset(\"tips\")\n",
    "\n",
    "#5.1.3 set x-axis and y-axis\n",
    "\n",
    "# Create an example of visualizationThis plot shows the relationship between five variables \n",
    "#in the tips dataset using a single call to the seaborn function relplot(). \n",
    "#sns.relplot(\n",
    "    #data=tips,\n",
    "    #x=\"total_bill\", y=\"tip\", col=\"time\",\n",
    "    #hue=\"smoker\", style=\"smoker\", size=\"size\",\n",
    "#)"
   ]
  },
  {
   "cell_type": "code",
   "execution_count": null,
   "id": "82b24832",
   "metadata": {},
   "outputs": [],
   "source": [
    "#data = pd.read_csv('../input/disease-prediction-using-machine-learning/Training.csv')"
   ]
  },
  {
   "cell_type": "code",
   "execution_count": null,
   "id": "aa4d72dd",
   "metadata": {},
   "outputs": [],
   "source": [
    "data"
   ]
  },
  {
   "cell_type": "code",
   "execution_count": null,
   "id": "ac57e7d8",
   "metadata": {},
   "outputs": [],
   "source": [
    "###API abstraction across visualizations... Application Programming Interface\n",
    "#forgot how to make headers in JNoteBook"
   ]
  },
  {
   "cell_type": "code",
   "execution_count": null,
   "id": "5e79da52",
   "metadata": {},
   "outputs": [],
   "source": [
    "#dots = sns.load_dataset(\"dots\")\n",
    "#sns.relplot(\n",
    "    #data=dots, kind=\"line\",\n",
    "    #x=\"time\", y=\"firing_rate\", col=\"align\",\n",
    "    #hue=\"choice\", size=\"coherence\", style=\"choice\",\n",
    "    #facet_kws=dict(sharex=False),\n",
    "#)"
   ]
  },
  {
   "cell_type": "code",
   "execution_count": null,
   "id": "4a391268",
   "metadata": {},
   "outputs": [],
   "source": [
    "#Statistical estimation and error bars\n",
    "#Often, we are interested in the average value of one variable as a function of other variables. \n",
    "#Many seaborn functions will automatically perform the statistical estimation that is necessary to answer these questions:"
   ]
  },
  {
   "cell_type": "code",
   "execution_count": null,
   "id": "1835aacf",
   "metadata": {},
   "outputs": [],
   "source": [
    "#fmri = sns.load_dataset(\"fmri\")\n",
    "#sns.relplot(\n",
    "    #data=fmri, kind=\"line\",\n",
    "    #x=\"timepoint\", y=\"signal\", col=\"region\",\n",
    "    #hue=\"event\", style=\"event\",\n",
    "#)"
   ]
  },
  {
   "cell_type": "code",
   "execution_count": null,
   "id": "5d9e230c",
   "metadata": {},
   "outputs": [],
   "source": [
    "#PyBer with Matplotlib Mod5.0.2 RoadMap"
   ]
  },
  {
   "cell_type": "code",
   "execution_count": null,
   "id": "65edade6",
   "metadata": {},
   "outputs": [],
   "source": [
    "###back to Kaggle given Code\n",
    "#function 'prognosis' needs to align for called in lower.\n",
    "#in example it is column 133.\n",
    "data['prognosis'].value_counts()"
   ]
  },
  {
   "cell_type": "code",
   "execution_count": null,
   "id": "473d878a",
   "metadata": {},
   "outputs": [],
   "source": [
    "###Preprocessing\n",
    "#forgot how to make headers in JNoteBook"
   ]
  },
  {
   "cell_type": "code",
   "execution_count": null,
   "id": "2d858ed5",
   "metadata": {},
   "outputs": [],
   "source": [
    "def preprocess_inputs(df):\n",
    "    df = df.copy()\n",
    "    \n",
    "    # Drop missing column\n",
    "    df = df.drop('Unnamed: 133', axis=1)\n",
    "    \n",
    "    # Split df into X and y\n",
    "    y = df['prognosis']\n",
    "    X = df.drop('prognosis', axis=1)\n",
    "    \n",
    "    # Train-test split\n",
    "    X_train, X_test, y_train, y_test = train_test_split(X, y, train_size=0.7, shuffle=True, random_state=1)\n",
    "    \n",
    "    return X_train, X_test, y_train, y_test"
   ]
  },
  {
   "cell_type": "code",
   "execution_count": null,
   "id": "7f162fa7",
   "metadata": {},
   "outputs": [],
   "source": [
    "X_train, X_test, y_train, y_test = preprocess_inputs(data)"
   ]
  },
  {
   "cell_type": "code",
   "execution_count": null,
   "id": "7253dd44",
   "metadata": {},
   "outputs": [],
   "source": [
    "X_train"
   ]
  },
  {
   "cell_type": "code",
   "execution_count": null,
   "id": "ac3ad24b",
   "metadata": {},
   "outputs": [],
   "source": [
    "###Training (Original Data)"
   ]
  },
  {
   "cell_type": "code",
   "execution_count": null,
   "id": "9e817a85",
   "metadata": {},
   "outputs": [],
   "source": [
    "model = LogisticRegression()\n",
    "model.fit(X_train, y_train)\n",
    "\n",
    "print(\"Test Accuracy: {:.2f}%\".format(model.score(X_test, y_test) * 100))"
   ]
  },
  {
   "cell_type": "code",
   "execution_count": null,
   "id": "99ec9899",
   "metadata": {},
   "outputs": [],
   "source": [
    "###Feature Selection"
   ]
  },
  {
   "cell_type": "code",
   "execution_count": null,
   "id": "d4140fdb",
   "metadata": {},
   "outputs": [],
   "source": [
    "#Create Horiz Bar Charts 5.1.5"
   ]
  },
  {
   "cell_type": "code",
   "execution_count": null,
   "id": "b6aeaa25",
   "metadata": {},
   "outputs": [],
   "source": [
    "coefficients = np.mean(model.coef_, axis=0)\n",
    "coefficients"
   ]
  },
  {
   "cell_type": "code",
   "execution_count": null,
   "id": "7b95298c",
   "metadata": {},
   "outputs": [],
   "source": [
    "importance_threshold = np.quantile(np.abs(coefficients), q=0.25)\n",
    "\n",
    "fig = px.bar(\n",
    "    x=coefficients,\n",
    "    y=X_train.columns,\n",
    "    orientation='h',\n",
    "    color=coefficients,\n",
    "    color_continuous_scale=[(0, 'red'), (1, 'blue')],\n",
    "    labels={'x': \"Coefficient Value\", 'y': \"Feature\"},\n",
    "    title=\"Feature Importance From Model Weights\"\n",
    ")"
   ]
  },
  {
   "cell_type": "code",
   "execution_count": null,
   "id": "09ed7939",
   "metadata": {},
   "outputs": [],
   "source": [
    "fig.add_vline(x=importance_threshold, line_color='yellow')\n",
    "fig.add_vline(x=-importance_threshold, line_color='yellow')\n",
    "fig.add_vrect(x0=importance_threshold, x1=-importance_threshold, line_width=0, fillcolor='yellow', opacity=0.2)\n",
    "\n",
    "fig.show()"
   ]
  }
 ],
 "metadata": {
  "kernelspec": {
   "display_name": "mlenv",
   "language": "python",
   "name": "mlenv"
  },
  "language_info": {
   "codemirror_mode": {
    "name": "ipython",
    "version": 3
   },
   "file_extension": ".py",
   "mimetype": "text/x-python",
   "name": "python",
   "nbconvert_exporter": "python",
   "pygments_lexer": "ipython3",
   "version": "3.7.10"
  }
 },
 "nbformat": 4,
 "nbformat_minor": 5
}
